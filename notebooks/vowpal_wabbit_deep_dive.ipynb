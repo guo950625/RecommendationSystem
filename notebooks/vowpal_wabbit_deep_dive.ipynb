{
 "cells": [
  {
   "cell_type": "markdown",
   "metadata": {},
   "source": [
    "# Vowpal Wabbit Deep Dive"
   ]
  },
  {
   "cell_type": "markdown",
   "metadata": {},
   "source": [
    "VW expects a specific [input format](https://github.com/VowpalWabbit/vowpal_wabbit/wiki/Input-format), in this notebook to_vw() is a convenience function that converts the standard movielens dataset into the required data format. Datafiles are then written to disk and passed to VW for training.\n",
    "\n",
    "The examples shown are to demonstrate functional capabilities of VW not to indicate performance advantages of different approaches. There are several hyper-parameters (e.g. learning rate and regularization terms) that can greatly impact performance of VW models which can be adjusted using [command line options](https://github.com/VowpalWabbit/vowpal_wabbit/wiki/Command-Line-Arguments). To properly compare approaches it is helpful to learn about and tune these parameters on the relevant dataset."
   ]
  },
  {
   "cell_type": "markdown",
   "metadata": {},
   "source": [
    " # 0. Load Data and Global Setup"
   ]
  },
  {
   "cell_type": "code",
   "execution_count": 1,
   "metadata": {},
   "outputs": [
    {
     "name": "stdout",
     "output_type": "stream",
     "text": [
      "System version: 3.6.8 |Anaconda, Inc.| (default, Dec 29 2018, 19:04:46) \n",
      "[GCC 4.2.1 Compatible Clang 4.0.1 (tags/RELEASE_401/final)]\n",
      "Pandas version: 0.25.2\n"
     ]
    }
   ],
   "source": [
    "import sys\n",
    "sys.path.append('../..')\n",
    "\n",
    "import os\n",
    "from subprocess import run\n",
    "from tempfile import TemporaryDirectory\n",
    "from time import process_time\n",
    "\n",
    "import pandas as pd\n",
    "import papermill as pm\n",
    "\n",
    "from reco_utils.common.notebook_utils import is_jupyter\n",
    "from reco_utils.dataset.movielens import load_pandas_df\n",
    "from reco_utils.dataset.python_splitters import python_random_split\n",
    "from reco_utils.evaluation.python_evaluation import (rmse, mae, exp_var, rsquared, get_top_k_items,\n",
    "                                                     map_at_k, ndcg_at_k, precision_at_k, recall_at_k)\n",
    "\n",
    "print(\"System version: {}\".format(sys.version))\n",
    "print(\"Pandas version: {}\".format(pd.__version__))"
   ]
  },
  {
   "cell_type": "code",
   "execution_count": 2,
   "metadata": {},
   "outputs": [
    {
     "data": {
      "text/html": [
       "<div>\n",
       "<style scoped>\n",
       "    .dataframe tbody tr th:only-of-type {\n",
       "        vertical-align: middle;\n",
       "    }\n",
       "\n",
       "    .dataframe tbody tr th {\n",
       "        vertical-align: top;\n",
       "    }\n",
       "\n",
       "    .dataframe thead th {\n",
       "        text-align: right;\n",
       "    }\n",
       "</style>\n",
       "<table border=\"1\" class=\"dataframe\">\n",
       "  <thead>\n",
       "    <tr style=\"text-align: right;\">\n",
       "      <th></th>\n",
       "      <th>userID</th>\n",
       "      <th>artistID</th>\n",
       "      <th>weight</th>\n",
       "    </tr>\n",
       "  </thead>\n",
       "  <tbody>\n",
       "    <tr>\n",
       "      <th>0</th>\n",
       "      <td>2</td>\n",
       "      <td>51</td>\n",
       "      <td>13883</td>\n",
       "    </tr>\n",
       "    <tr>\n",
       "      <th>1</th>\n",
       "      <td>2</td>\n",
       "      <td>52</td>\n",
       "      <td>11690</td>\n",
       "    </tr>\n",
       "    <tr>\n",
       "      <th>2</th>\n",
       "      <td>2</td>\n",
       "      <td>53</td>\n",
       "      <td>11351</td>\n",
       "    </tr>\n",
       "    <tr>\n",
       "      <th>3</th>\n",
       "      <td>2</td>\n",
       "      <td>54</td>\n",
       "      <td>10300</td>\n",
       "    </tr>\n",
       "    <tr>\n",
       "      <th>4</th>\n",
       "      <td>2</td>\n",
       "      <td>55</td>\n",
       "      <td>8983</td>\n",
       "    </tr>\n",
       "  </tbody>\n",
       "</table>\n",
       "</div>"
      ],
      "text/plain": [
       "   userID  artistID  weight\n",
       "0       2        51   13883\n",
       "1       2        52   11690\n",
       "2       2        53   11351\n",
       "3       2        54   10300\n",
       "4       2        55    8983"
      ]
     },
     "execution_count": 2,
     "metadata": {},
     "output_type": "execute_result"
    }
   ],
   "source": [
    "df = pd.read_csv('/Users/yumengxiao/Documents/7374/Assignment3/hetrec2011-lastfm-2k/user_artists.csv')\n",
    "df.head()"
   ]
  },
  {
   "cell_type": "markdown",
   "metadata": {},
   "source": [
    "The 'weight' is actually the listening count for each (user, artist) pair, so if weight is higher it will mean that the user likes this artist more. But beacause the range of weight is too big, we deicide to tranform it into integer 1 to 4."
   ]
  },
  {
   "cell_type": "code",
   "execution_count": 3,
   "metadata": {},
   "outputs": [
    {
     "data": {
      "text/plain": [
       "count     92834.00000\n",
       "mean        745.24393\n",
       "std        3751.32208\n",
       "min           1.00000\n",
       "25%         107.00000\n",
       "50%         260.00000\n",
       "75%         614.00000\n",
       "max      352698.00000\n",
       "Name: weight, dtype: float64"
      ]
     },
     "execution_count": 3,
     "metadata": {},
     "output_type": "execute_result"
    }
   ],
   "source": [
    "df['weight'].describe()"
   ]
  },
  {
   "cell_type": "code",
   "execution_count": 4,
   "metadata": {},
   "outputs": [
    {
     "data": {
      "text/html": [
       "<div>\n",
       "<style scoped>\n",
       "    .dataframe tbody tr th:only-of-type {\n",
       "        vertical-align: middle;\n",
       "    }\n",
       "\n",
       "    .dataframe tbody tr th {\n",
       "        vertical-align: top;\n",
       "    }\n",
       "\n",
       "    .dataframe thead th {\n",
       "        text-align: right;\n",
       "    }\n",
       "</style>\n",
       "<table border=\"1\" class=\"dataframe\">\n",
       "  <thead>\n",
       "    <tr style=\"text-align: right;\">\n",
       "      <th></th>\n",
       "      <th>userID</th>\n",
       "      <th>artistID</th>\n",
       "      <th>weight</th>\n",
       "    </tr>\n",
       "  </thead>\n",
       "  <tbody>\n",
       "    <tr>\n",
       "      <th>0</th>\n",
       "      <td>2</td>\n",
       "      <td>51</td>\n",
       "      <td>4</td>\n",
       "    </tr>\n",
       "    <tr>\n",
       "      <th>1</th>\n",
       "      <td>2</td>\n",
       "      <td>52</td>\n",
       "      <td>4</td>\n",
       "    </tr>\n",
       "    <tr>\n",
       "      <th>2</th>\n",
       "      <td>2</td>\n",
       "      <td>53</td>\n",
       "      <td>4</td>\n",
       "    </tr>\n",
       "    <tr>\n",
       "      <th>3</th>\n",
       "      <td>2</td>\n",
       "      <td>54</td>\n",
       "      <td>4</td>\n",
       "    </tr>\n",
       "    <tr>\n",
       "      <th>4</th>\n",
       "      <td>2</td>\n",
       "      <td>55</td>\n",
       "      <td>4</td>\n",
       "    </tr>\n",
       "  </tbody>\n",
       "</table>\n",
       "</div>"
      ],
      "text/plain": [
       "   userID  artistID  weight\n",
       "0       2        51       4\n",
       "1       2        52       4\n",
       "2       2        53       4\n",
       "3       2        54       4\n",
       "4       2        55       4"
      ]
     },
     "execution_count": 4,
     "metadata": {},
     "output_type": "execute_result"
    }
   ],
   "source": [
    "df['weight'] = df['weight'].apply(lambda x: 1 if x <= 107 \n",
    "                                    else (2 if x <= 260 \n",
    "                                    else (3 if x <= 614 \n",
    "                                    else  4)))\n",
    "df.head()"
   ]
  },
  {
   "cell_type": "code",
   "execution_count": 5,
   "metadata": {},
   "outputs": [],
   "source": [
    "def to_vw(df, output, logistic=False):\n",
    "    \"\"\"Convert Pandas DataFrame to vw input format\n",
    "    Args:\n",
    "        df (pd.DataFrame): input DataFrame\n",
    "        output (str): path to output file\n",
    "        logistic (bool): flag to convert label to logistic value\n",
    "    \"\"\"\n",
    "    with open(output, 'w') as f:\n",
    "        tmp = df.reset_index()\n",
    "        \n",
    "        # convert rating to binary value\n",
    "        if logistic:\n",
    "            tmp['weight'] = tmp['weight'].apply(lambda x: 1 if x >= 3 else -1)\n",
    "        \n",
    "        # convert each row to VW input format\n",
    "        # [label] [tag]|[user namespace] [user id feature] |[item namespace] [movie id feature]\n",
    "        # label is the true rating, tag is a unique id for the example just used to link predictions to truth\n",
    "        # user and item namespaces separate the features to support interaction features through command line options\n",
    "        for _, row in tmp.iterrows():\n",
    "            f.write('{weight:d} {index:d}|user {userID:d} |item {artistID:d}\\n'.format_map(row))"
   ]
  },
  {
   "cell_type": "code",
   "execution_count": 6,
   "metadata": {},
   "outputs": [],
   "source": [
    "def run_vw(train_params, test_params, test_data, prediction_path, logistic=False):\n",
    "    \"\"\"Convenience function to train, test, and show metrics of interest\n",
    "    Args:\n",
    "        train_params (str): vw training parameters\n",
    "        test_params (str): vw testing parameters\n",
    "        test_data (pd.dataFrame): test data\n",
    "        prediction_path (str): path to vw prediction output\n",
    "        logistic (bool): flag to convert label to logistic value\n",
    "    Returns:\n",
    "        (dict): metrics and timing information\n",
    "    \"\"\"\n",
    "\n",
    "    # train model\n",
    "    train_start = process_time()\n",
    "    run(train_params.split(' '), check=True)\n",
    "    train_stop = process_time()\n",
    "    \n",
    "    # test model\n",
    "    test_start = process_time()\n",
    "    run(test_params.split(' '), check=True)\n",
    "    test_stop = process_time()\n",
    "    \n",
    "    # read in predictions\n",
    "    pred_df = pd.read_csv(prediction_path, delim_whitespace=True, names=['prediction'], index_col=1).join(test_data)\n",
    "    pred_df.drop(\"weight\", axis=1, inplace=True)\n",
    "\n",
    "    test_df = test_data.copy()\n",
    "    if logistic:\n",
    "        # make the true label binary so that the metrics are captured correctly\n",
    "        test_df['weight'] = test['weight'].apply(lambda x: 1 if x >= 3 else -1)\n",
    "    else:\n",
    "        # ensure results are integers in correct range\n",
    "        pred_df['prediction'] = pred_df['prediction'].apply(lambda x: int(max(1, min(4, round(x)))))\n",
    "\n",
    "    # calculate metrics\n",
    "    result = dict()\n",
    "    result['RMSE'] = rmse(test_df, pred_df)\n",
    "    result['MAE'] = mae(test_df, pred_df)\n",
    "    result['R2'] = rsquared(test_df, pred_df)\n",
    "    result['Explained Variance'] = exp_var(test_df, pred_df)\n",
    "    result['Train Time (ms)'] = (train_stop - train_start) * 1000\n",
    "    result['Test Time (ms)'] = (test_stop - test_start) * 1000\n",
    "    \n",
    "    return result"
   ]
  },
  {
   "cell_type": "code",
   "execution_count": 7,
   "metadata": {},
   "outputs": [],
   "source": [
    "# create temp directory to maintain data files\n",
    "tmpdir = TemporaryDirectory()\n",
    "\n",
    "model_path = os.path.join(tmpdir.name, 'vw.model')\n",
    "saved_model_path = os.path.join(tmpdir.name, 'vw_saved.model')\n",
    "train_path = os.path.join(tmpdir.name, 'train.dat')\n",
    "test_path = os.path.join(tmpdir.name, 'test.dat')\n",
    "train_logistic_path = os.path.join(tmpdir.name, 'train_logistic.dat')\n",
    "test_logistic_path = os.path.join(tmpdir.name, 'test_logistic.dat')\n",
    "prediction_path = os.path.join(tmpdir.name, 'prediction.dat')\n",
    "all_test_path = os.path.join(tmpdir.name, 'new_test.dat')\n",
    "all_prediction_path = os.path.join(tmpdir.name, 'new_prediction.dat')"
   ]
  },
  {
   "cell_type": "markdown",
   "metadata": {},
   "source": [
    "# 1. Load & Transform Data"
   ]
  },
  {
   "cell_type": "code",
   "execution_count": 8,
   "metadata": {
    "tags": [
     "parameters"
    ]
   },
   "outputs": [],
   "source": [
    "# Select MovieLens data size: 100k, 1m, 10m, or 20m\n",
    "TOP_K = 10"
   ]
  },
  {
   "cell_type": "code",
   "execution_count": 9,
   "metadata": {},
   "outputs": [],
   "source": [
    "# split data to train and test sets, default values take 75% of each users ratings as train, and 25% as test\n",
    "train, test = python_random_split(df, 0.75)\n",
    "\n",
    "# save train and test data in vw format\n",
    "to_vw(df=train, output=train_path)\n",
    "to_vw(df=test, output=test_path)\n",
    "\n",
    "# save data for logistic regression (requires adjusting the label)\n",
    "to_vw(df=train, output=train_logistic_path, logistic=True)\n",
    "to_vw(df=test, output=test_logistic_path, logistic=True)"
   ]
  },
  {
   "cell_type": "markdown",
   "metadata": {},
   "source": [
    "# 2. Regression Based Recommendations\n",
    "\n",
    "When considering different approaches for solving a problem with machine learning it is helpful to generate a baseline approach to understand how more complex solutions perform across dimensions of performance, time, and resource (memory or cpu) usage.\n",
    "\n",
    "Regression based approaches are some of the simplest and fastest baselines to consider for many ML problems."
   ]
  },
  {
   "cell_type": "markdown",
   "metadata": {},
   "source": [
    "## 2.1 Linear Regression\n",
    "\n",
    "By passing each user-artist listening count in, the model will begin to learn weights based on average count for each user as well as average count per artist.  \n",
    "  \n",
    "Parameters' description of command line:  \n",
    "VW uses linear regression by default, so no extra command line options  \n",
    "-f <model_path>: indicates where the final model file will reside after training  \n",
    "-d <data_path>: indicates which data file to use for training or testing  \n",
    "--quiet: this runs vw in quiet mode silencing stdout   \n",
    "-i <model_path>: indicates where to load the previously model file created during training  \n",
    "-t: this executes inference only (no learned updates to the model)  \n",
    "-p <prediction_path>: indicates where to store prediction output  "
   ]
  },
  {
   "cell_type": "code",
   "execution_count": 7,
   "metadata": {
    "scrolled": true
   },
   "outputs": [
    {
     "data": {
      "text/html": [
       "<div>\n",
       "<style scoped>\n",
       "    .dataframe tbody tr th:only-of-type {\n",
       "        vertical-align: middle;\n",
       "    }\n",
       "\n",
       "    .dataframe tbody tr th {\n",
       "        vertical-align: top;\n",
       "    }\n",
       "\n",
       "    .dataframe thead th {\n",
       "        text-align: right;\n",
       "    }\n",
       "</style>\n",
       "<table border=\"1\" class=\"dataframe\">\n",
       "  <thead>\n",
       "    <tr style=\"text-align: right;\">\n",
       "      <th></th>\n",
       "      <th>RMSE</th>\n",
       "      <th>MAE</th>\n",
       "      <th>R2</th>\n",
       "      <th>Explained Variance</th>\n",
       "      <th>Train Time (ms)</th>\n",
       "      <th>Test Time (ms)</th>\n",
       "    </tr>\n",
       "  </thead>\n",
       "  <tbody>\n",
       "    <tr>\n",
       "      <th>Linear Regression</th>\n",
       "      <td>0.988433</td>\n",
       "      <td>0.70988</td>\n",
       "      <td>0.227276</td>\n",
       "      <td>0.227286</td>\n",
       "      <td>62.5</td>\n",
       "      <td>15.625</td>\n",
       "    </tr>\n",
       "  </tbody>\n",
       "</table>\n",
       "</div>"
      ],
      "text/plain": [
       "                       RMSE      MAE        R2  Explained Variance  \\\n",
       "Linear Regression  0.988433  0.70988  0.227276            0.227286   \n",
       "\n",
       "                   Train Time (ms)  Test Time (ms)  \n",
       "Linear Regression             62.5          15.625  "
      ]
     },
     "execution_count": 7,
     "metadata": {},
     "output_type": "execute_result"
    }
   ],
   "source": [
    "train_params = 'vw -f {model} -d {data} --quiet'.format(model=model_path, data=train_path)\n",
    "# save these results for later use during top-k analysis\n",
    "test_params = 'vw -i {model} -d {data} -t -p {pred} --quiet'.format(model=model_path, data=test_path, pred=prediction_path)\n",
    "\n",
    "result = run_vw(train_params=train_params, \n",
    "                test_params=test_params, \n",
    "                test_data=test, \n",
    "                prediction_path=prediction_path)\n",
    "\n",
    "comparison = pd.DataFrame(result, index=['Linear Regression'])\n",
    "comparison"
   ]
  },
  {
   "cell_type": "markdown",
   "metadata": {},
   "source": [
    "## 2.2 Linear Regression with Interaction Features\n",
    "\n",
    "To generate interaction features use the quadratic command line argument and specify the namespaces that should be combined: '-q ui' combines the user and item namespaces based on the first letter of each.\n",
    "\n",
    "Currently the userIDs and itemIDs used are integers which means the feature ID is used directly, for instance when user ID 123 rates movie 456, the training example puts a 1 in the values for features 123 and 456. However when interaction is specified (or if a feature is a string) the resulting interaction feature is hashed into the available feature space. Feature hashing is a way to take a very sparse high dimensional feature space and reduce it into a lower dimensional space. This allows for reduced memory while retaining fast computation of feature and model weights."
   ]
  },
  {
   "cell_type": "code",
   "execution_count": 8,
   "metadata": {},
   "outputs": [
    {
     "data": {
      "text/html": [
       "<div>\n",
       "<style scoped>\n",
       "    .dataframe tbody tr th:only-of-type {\n",
       "        vertical-align: middle;\n",
       "    }\n",
       "\n",
       "    .dataframe tbody tr th {\n",
       "        vertical-align: top;\n",
       "    }\n",
       "\n",
       "    .dataframe thead th {\n",
       "        text-align: right;\n",
       "    }\n",
       "</style>\n",
       "<table border=\"1\" class=\"dataframe\">\n",
       "  <thead>\n",
       "    <tr style=\"text-align: right;\">\n",
       "      <th></th>\n",
       "      <th>RMSE</th>\n",
       "      <th>MAE</th>\n",
       "      <th>R2</th>\n",
       "      <th>Explained Variance</th>\n",
       "      <th>Train Time (ms)</th>\n",
       "      <th>Test Time (ms)</th>\n",
       "    </tr>\n",
       "  </thead>\n",
       "  <tbody>\n",
       "    <tr>\n",
       "      <th>Linear Regression</th>\n",
       "      <td>0.988433</td>\n",
       "      <td>0.70988</td>\n",
       "      <td>0.227276</td>\n",
       "      <td>0.227286</td>\n",
       "      <td>62.500</td>\n",
       "      <td>15.625</td>\n",
       "    </tr>\n",
       "    <tr>\n",
       "      <th>Linear Regression w/ Interaction</th>\n",
       "      <td>0.985921</td>\n",
       "      <td>0.71292</td>\n",
       "      <td>0.231199</td>\n",
       "      <td>0.231338</td>\n",
       "      <td>15.625</td>\n",
       "      <td>31.250</td>\n",
       "    </tr>\n",
       "  </tbody>\n",
       "</table>\n",
       "</div>"
      ],
      "text/plain": [
       "                                      RMSE      MAE        R2  \\\n",
       "Linear Regression                 0.988433  0.70988  0.227276   \n",
       "Linear Regression w/ Interaction  0.985921  0.71292  0.231199   \n",
       "\n",
       "                                  Explained Variance  Train Time (ms)  \\\n",
       "Linear Regression                           0.227286           62.500   \n",
       "Linear Regression w/ Interaction            0.231338           15.625   \n",
       "\n",
       "                                  Test Time (ms)  \n",
       "Linear Regression                         15.625  \n",
       "Linear Regression w/ Interaction          31.250  "
      ]
     },
     "execution_count": 8,
     "metadata": {},
     "output_type": "execute_result"
    }
   ],
   "source": [
    "\"\"\"\n",
    "Quick description of command line parameters used\n",
    "  -b <N>: sets the memory size to 2<sup>N</sup> entries\n",
    "  -q <ab>: create quadratic feature interactions between features in namespaces starting with 'a' and 'b' \n",
    "\"\"\"\n",
    "train_params = 'vw -b 26 -q ua -f {model} -d {data} --quiet'.format(model=saved_model_path, data=train_path)\n",
    "test_params = 'vw -i {model} -d {data} -t -p {pred} --quiet'.format(model=saved_model_path, data=test_path, pred=prediction_path)\n",
    "\n",
    "result = run_vw(train_params=train_params,\n",
    "                test_params=test_params,\n",
    "                test_data=test,\n",
    "                prediction_path=prediction_path)\n",
    "saved_result = result\n",
    "\n",
    "comparison = comparison.append(pd.DataFrame(result, index=['Linear Regression w/ Interaction']))\n",
    "comparison"
   ]
  },
  {
   "cell_type": "markdown",
   "metadata": {},
   "source": [
    "## 2.3 Multinomial Logistic Regression\n",
    "An alternative to linear regression is to leverage multiclas logistic regression, which treats each rating value as a distinct class. \n",
    "\n",
    "Basic multiclass logistic regression can be accomplished using the One Against All approach specified by the '--oaa N' option, where N is the number of classes and proving the logistic option for the loss function to be used.  \n",
    "  \n",
    "'One Against All' is: When classifying n-types of samples, for each class, take this class as one, and treat the remaining n-1 class samples as another to build a model, so that we can convert to n two-category questions. Finally, you can get n models.The samples to be predicted are passed into the n models, and the predicted output is the result of the model (label) with the largest likelihood  \n",
    "  \n",
    "Parameters' description of command line:  \n",
    "--loss_function logistic: sets the model loss function for logistic regression  \n",
    "--oaa <N>: trains N separate models using One-Against-All approach  \n",
    "--link logistic: converts the predicted output from logit to probability"
   ]
  },
  {
   "cell_type": "code",
   "execution_count": 9,
   "metadata": {},
   "outputs": [
    {
     "data": {
      "text/html": [
       "<div>\n",
       "<style scoped>\n",
       "    .dataframe tbody tr th:only-of-type {\n",
       "        vertical-align: middle;\n",
       "    }\n",
       "\n",
       "    .dataframe tbody tr th {\n",
       "        vertical-align: top;\n",
       "    }\n",
       "\n",
       "    .dataframe thead th {\n",
       "        text-align: right;\n",
       "    }\n",
       "</style>\n",
       "<table border=\"1\" class=\"dataframe\">\n",
       "  <thead>\n",
       "    <tr style=\"text-align: right;\">\n",
       "      <th></th>\n",
       "      <th>RMSE</th>\n",
       "      <th>MAE</th>\n",
       "      <th>R2</th>\n",
       "      <th>Explained Variance</th>\n",
       "      <th>Train Time (ms)</th>\n",
       "      <th>Test Time (ms)</th>\n",
       "    </tr>\n",
       "  </thead>\n",
       "  <tbody>\n",
       "    <tr>\n",
       "      <th>Linear Regression</th>\n",
       "      <td>0.988433</td>\n",
       "      <td>0.70988</td>\n",
       "      <td>0.227276</td>\n",
       "      <td>0.227286</td>\n",
       "      <td>62.500</td>\n",
       "      <td>15.625</td>\n",
       "    </tr>\n",
       "    <tr>\n",
       "      <th>Linear Regression w/ Interaction</th>\n",
       "      <td>0.985921</td>\n",
       "      <td>0.71292</td>\n",
       "      <td>0.231199</td>\n",
       "      <td>0.231338</td>\n",
       "      <td>15.625</td>\n",
       "      <td>31.250</td>\n",
       "    </tr>\n",
       "    <tr>\n",
       "      <th>Multinomial Regression</th>\n",
       "      <td>1.112780</td>\n",
       "      <td>0.75564</td>\n",
       "      <td>0.020626</td>\n",
       "      <td>0.050111</td>\n",
       "      <td>62.500</td>\n",
       "      <td>31.250</td>\n",
       "    </tr>\n",
       "  </tbody>\n",
       "</table>\n",
       "</div>"
      ],
      "text/plain": [
       "                                      RMSE      MAE        R2  \\\n",
       "Linear Regression                 0.988433  0.70988  0.227276   \n",
       "Linear Regression w/ Interaction  0.985921  0.71292  0.231199   \n",
       "Multinomial Regression            1.112780  0.75564  0.020626   \n",
       "\n",
       "                                  Explained Variance  Train Time (ms)  \\\n",
       "Linear Regression                           0.227286           62.500   \n",
       "Linear Regression w/ Interaction            0.231338           15.625   \n",
       "Multinomial Regression                      0.050111           62.500   \n",
       "\n",
       "                                  Test Time (ms)  \n",
       "Linear Regression                         15.625  \n",
       "Linear Regression w/ Interaction          31.250  \n",
       "Multinomial Regression                    31.250  "
      ]
     },
     "execution_count": 9,
     "metadata": {},
     "output_type": "execute_result"
    }
   ],
   "source": [
    "train_params = 'vw --loss_function logistic --oaa 4 -f {model} -d {data} --quiet'.format(model=model_path, data=train_path)\n",
    "test_params = 'vw --link logistic -i {model} -d {data} -t -p {pred} --quiet'.format(model=model_path, data=test_path, pred=prediction_path)\n",
    "\n",
    "result = run_vw(train_params=train_params,\n",
    "                test_params=test_params,\n",
    "                test_data=test,\n",
    "                prediction_path=prediction_path)\n",
    "\n",
    "comparison = comparison.append(pd.DataFrame(result, index=['Multinomial Regression']))\n",
    "comparison"
   ]
  },
  {
   "cell_type": "markdown",
   "metadata": {},
   "source": [
    "## 2.4 Logistic Regression\n",
    "\n",
    "Additionally, one might simply be interested in whether the user likes or dislikes an item and we can adjust the input data to represent a binary outcome, where ratings in (1,2] are dislikes and [3,4] are likes."
   ]
  },
  {
   "cell_type": "code",
   "execution_count": 10,
   "metadata": {
    "scrolled": true
   },
   "outputs": [
    {
     "data": {
      "text/html": [
       "<div>\n",
       "<style scoped>\n",
       "    .dataframe tbody tr th:only-of-type {\n",
       "        vertical-align: middle;\n",
       "    }\n",
       "\n",
       "    .dataframe tbody tr th {\n",
       "        vertical-align: top;\n",
       "    }\n",
       "\n",
       "    .dataframe thead th {\n",
       "        text-align: right;\n",
       "    }\n",
       "</style>\n",
       "<table border=\"1\" class=\"dataframe\">\n",
       "  <thead>\n",
       "    <tr style=\"text-align: right;\">\n",
       "      <th></th>\n",
       "      <th>RMSE</th>\n",
       "      <th>MAE</th>\n",
       "      <th>R2</th>\n",
       "      <th>Explained Variance</th>\n",
       "      <th>Train Time (ms)</th>\n",
       "      <th>Test Time (ms)</th>\n",
       "    </tr>\n",
       "  </thead>\n",
       "  <tbody>\n",
       "    <tr>\n",
       "      <th>Linear Regression</th>\n",
       "      <td>0.988433</td>\n",
       "      <td>0.709880</td>\n",
       "      <td>0.227276</td>\n",
       "      <td>0.227286</td>\n",
       "      <td>62.500</td>\n",
       "      <td>15.625</td>\n",
       "    </tr>\n",
       "    <tr>\n",
       "      <th>Linear Regression w/ Interaction</th>\n",
       "      <td>0.985921</td>\n",
       "      <td>0.712920</td>\n",
       "      <td>0.231199</td>\n",
       "      <td>0.231338</td>\n",
       "      <td>15.625</td>\n",
       "      <td>31.250</td>\n",
       "    </tr>\n",
       "    <tr>\n",
       "      <th>Multinomial Regression</th>\n",
       "      <td>1.112780</td>\n",
       "      <td>0.755640</td>\n",
       "      <td>0.020626</td>\n",
       "      <td>0.050111</td>\n",
       "      <td>62.500</td>\n",
       "      <td>31.250</td>\n",
       "    </tr>\n",
       "    <tr>\n",
       "      <th>Logistic Regression</th>\n",
       "      <td>0.717475</td>\n",
       "      <td>0.409551</td>\n",
       "      <td>0.096362</td>\n",
       "      <td>0.142500</td>\n",
       "      <td>46.875</td>\n",
       "      <td>31.250</td>\n",
       "    </tr>\n",
       "  </tbody>\n",
       "</table>\n",
       "</div>"
      ],
      "text/plain": [
       "                                      RMSE       MAE        R2  \\\n",
       "Linear Regression                 0.988433  0.709880  0.227276   \n",
       "Linear Regression w/ Interaction  0.985921  0.712920  0.231199   \n",
       "Multinomial Regression            1.112780  0.755640  0.020626   \n",
       "Logistic Regression               0.717475  0.409551  0.096362   \n",
       "\n",
       "                                  Explained Variance  Train Time (ms)  \\\n",
       "Linear Regression                           0.227286           62.500   \n",
       "Linear Regression w/ Interaction            0.231338           15.625   \n",
       "Multinomial Regression                      0.050111           62.500   \n",
       "Logistic Regression                         0.142500           46.875   \n",
       "\n",
       "                                  Test Time (ms)  \n",
       "Linear Regression                         15.625  \n",
       "Linear Regression w/ Interaction          31.250  \n",
       "Multinomial Regression                    31.250  \n",
       "Logistic Regression                       31.250  "
      ]
     },
     "execution_count": 10,
     "metadata": {},
     "output_type": "execute_result"
    }
   ],
   "source": [
    "train_params = 'vw --loss_function logistic -f {model} -d {data} --quiet'.format(model=model_path, data=train_logistic_path)\n",
    "test_params = 'vw --link logistic -i {model} -d {data} -t -p {pred} --quiet'.format(model=model_path, data=test_logistic_path, pred=prediction_path)\n",
    "\n",
    "result = run_vw(train_params=train_params,\n",
    "                test_params=test_params,\n",
    "                test_data=test,\n",
    "                prediction_path=prediction_path,\n",
    "                logistic=True)\n",
    "\n",
    "comparison = comparison.append(pd.DataFrame(result, index=['Logistic Regression']))\n",
    "comparison"
   ]
  },
  {
   "cell_type": "markdown",
   "metadata": {},
   "source": [
    "We can see that r square of all the model is really low which means these model are not fitted well. So we decided to write the contented based system by ourselves."
   ]
  }
 ],
 "metadata": {
  "celltoolbar": "Tags",
  "kernelspec": {
   "display_name": "Python (reco)",
   "language": "python",
   "name": "reco_base"
  },
  "language_info": {
   "codemirror_mode": {
    "name": "ipython",
    "version": 3
   },
   "file_extension": ".py",
   "mimetype": "text/x-python",
   "name": "python",
   "nbconvert_exporter": "python",
   "pygments_lexer": "ipython3",
   "version": "3.6.8"
  }
 },
 "nbformat": 4,
 "nbformat_minor": 2
}
